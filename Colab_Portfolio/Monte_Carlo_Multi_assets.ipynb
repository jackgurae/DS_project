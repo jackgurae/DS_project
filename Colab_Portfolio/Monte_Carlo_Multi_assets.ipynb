{
  "nbformat": 4,
  "nbformat_minor": 0,
  "metadata": {
    "colab": {
      "name": "Monte Carlo - Multi-assets.ipynb",
      "provenance": [],
      "authorship_tag": "ABX9TyNuTkUtw0We7hqWwKsQYWs9",
      "include_colab_link": true
    },
    "kernelspec": {
      "name": "python3",
      "display_name": "Python 3"
    },
    "language_info": {
      "name": "python"
    },
    "accelerator": "GPU"
  },
  "cells": [
    {
      "cell_type": "markdown",
      "metadata": {
        "id": "view-in-github",
        "colab_type": "text"
      },
      "source": [
        "<a href=\"https://colab.research.google.com/github/jackgurae/DS_project/blob/main/Colab_Portfolio/Monte_Carlo_Multi_assets.ipynb\" target=\"_parent\"><img src=\"https://colab.research.google.com/assets/colab-badge.svg\" alt=\"Open In Colab\"/></a>"
      ]
    },
    {
      "cell_type": "code",
      "execution_count": null,
      "metadata": {
        "id": "z8Wrr0T5SP-0"
      },
      "outputs": [],
      "source": [
        "import numpy as np\n",
        "import pandas as pd\n",
        "import matplotlib.pyplot as plt\n",
        "import math\n",
        "import torch\n",
        "from scipy import stats"
      ]
    },
    {
      "cell_type": "code",
      "source": [
        "## Plain Vanilla Call\n",
        "def blackScholes_py(S_0, strike, time_to_expiry, implied_vol, risk_free_rate):\n",
        "    S = S_0\n",
        "    K = strike\n",
        "    dt = time_to_expiry\n",
        "    sigma = implied_vol\n",
        "    r = risk_free_rate\n",
        "    Phi = stats.norm.cdf\n",
        "    d_1 = (np.log(S_0 / K) + (r+sigma**2/2)*dt) / (sigma*np.sqrt(dt))\n",
        "    d_2 = d_1 - sigma*np.sqrt(dt)\n",
        "    return S*Phi(d_1) - K*np.exp(-r*dt)*Phi(d_2)"
      ],
      "metadata": {
        "id": "-YOd6W-gBGJs"
      },
      "execution_count": null,
      "outputs": []
    },
    {
      "cell_type": "code",
      "source": [
        "# %%timeit -n 10\n",
        "S_0 = 102.5\n",
        "strike =80.0\n",
        "time_to_expiry = 0.25\n",
        "implied_vol = 0.3\n",
        "risk_free_rate = 0.03\n",
        "barrier = 1.0\n",
        "trials = 100000\n",
        "steps =100\n",
        "price_np = blackScholes_py(S_0, strike, time_to_expiry, implied_vol, risk_free_rate)\n",
        "print(price_np)"
      ],
      "metadata": {
        "colab": {
          "base_uri": "https://localhost:8080/"
        },
        "id": "YWu34_M7hEaU",
        "outputId": "272d36d1-248e-48ee-e2bc-c9d279d05d8c"
      },
      "execution_count": null,
      "outputs": [
        {
          "output_type": "stream",
          "name": "stdout",
          "text": [
            "23.343362555184484\n"
          ]
        }
      ]
    },
    {
      "cell_type": "code",
      "source": [
        "def analytical_downOut_py(S_0, strike, time_to_expiry, implied_vol, risk_free_rate, barrier):\n",
        "    S = S_0\n",
        "    K = strike\n",
        "    dt = time_to_expiry\n",
        "    sigma = implied_vol\n",
        "    r = risk_free_rate\n",
        "    alpha = 0.5 - r/sigma**2\n",
        "    B = barrier\n",
        "    Phi = stats.norm.cdf\n",
        "    d_1 = (np.log(S_0 / K) + (r+sigma**2/2)*dt) / (sigma*np.sqrt(dt))\n",
        "    d_2 = d_1 - sigma*np.sqrt(dt)\n",
        "    bs = S*Phi(d_1) - K*np.exp(-r*dt)*Phi(d_2)\n",
        "    d_1a = (np.log(B**2 / (S*K)) + (r+sigma**2/2)*dt) / (sigma*np.sqrt(dt))\n",
        "    d_2a = d_1a - sigma*np.sqrt(dt)\n",
        "    reflection = (S/B)**(1-r/sigma**2) * ((B**2/S)*Phi(d_1a) - K*np.exp(-r*dt)*Phi(d_2a))\n",
        "    return max(bs - reflection,0)"
      ],
      "metadata": {
        "id": "RUxdiYgqpcts"
      },
      "execution_count": null,
      "outputs": []
    },
    {
      "cell_type": "code",
      "source": [
        "doc_analytical = analytical_downOut_py(S_0, strike, time_to_expiry, implied_vol, risk_free_rate, barrier)\n",
        "print(doc_analytical)"
      ],
      "metadata": {
        "colab": {
          "base_uri": "https://localhost:8080/"
        },
        "id": "uvH7dwISq-QP",
        "outputId": "322db483-be2b-437d-cd02-15634cb8926a"
      },
      "execution_count": null,
      "outputs": [
        {
          "output_type": "stream",
          "name": "stdout",
          "text": [
            "23.343362555184484\n"
          ]
        }
      ]
    },
    {
      "cell_type": "code",
      "source": [
        "print(torch.cuda.device_count())\n",
        "print(torch.cuda.get_device_name(0))\n",
        "cuda0 = torch.device('cuda:0')"
      ],
      "metadata": {
        "colab": {
          "base_uri": "https://localhost:8080/"
        },
        "id": "nE2CtpU7mz7P",
        "outputId": "370763d5-61d6-4419-9e4b-c4022b0c5dad"
      },
      "execution_count": null,
      "outputs": [
        {
          "output_type": "stream",
          "name": "stdout",
          "text": [
            "1\n",
            "Tesla K80\n"
          ]
        }
      ]
    },
    {
      "cell_type": "code",
      "source": [
        "def monte_carlo_down_out_py(S_0, strike, time_to_expiry, implied_vol, risk_free_rate, barrier, steps, trials):\n",
        "    stdnorm_random_variates = np.random.randn(trials, steps)\n",
        "    S = S_0\n",
        "    K = strike\n",
        "    dt = time_to_expiry / stdnorm_random_variates.shape[1]\n",
        "    sigma = implied_vol\n",
        "    r = risk_free_rate\n",
        "    B = barrier\n",
        "    # See Advanced Monte Carlo methods for barrier and related exotic options by Emmanuel Gobet\n",
        "    B_shift = B*np.exp(0.5826*sigma*np.sqrt(dt))\n",
        "    S_T = S * np.cumprod(np.exp((r-sigma**2/2)*dt+sigma*np.sqrt(dt)*stdnorm_random_variates), axis=1)\n",
        "    non_touch = (np.min(S_T, axis=1) > B_shift)*1\n",
        "    call_payout = np.maximum(S_T[:,-1] - K, 0)\n",
        "    npv = np.mean(non_touch * call_payout)\n",
        "    return np.exp(-time_to_expiry*r)*npv"
      ],
      "metadata": {
        "id": "Z4Yu-ENChf3d"
      },
      "execution_count": null,
      "outputs": []
    },
    {
      "cell_type": "code",
      "source": [
        "# %%timeit -n 10\n",
        "dop_mc = monte_carlo_down_out_py(S_0, strike, time_to_expiry, implied_vol, risk_free_rate, barrier, steps, trials)\n",
        "print(dop_mc)"
      ],
      "metadata": {
        "colab": {
          "base_uri": "https://localhost:8080/"
        },
        "id": "sP8ZyHFJjX7A",
        "outputId": "bf42da83-58a0-4fd5-c3c6-ee737bfc77d4"
      },
      "execution_count": null,
      "outputs": [
        {
          "output_type": "stream",
          "name": "stdout",
          "text": [
            "23.26397736051504\n"
          ]
        }
      ]
    },
    {
      "cell_type": "code",
      "source": [
        "def monte_carlo_down_out_torch_cuda(S_0, strike, time_to_expiry, implied_vol, risk_free_rate, barrier, steps, trials):\n",
        "    stdnorm_random_variates = torch.cuda.FloatTensor(trials, steps).normal_()\n",
        "    S = S_0\n",
        "    K = strike\n",
        "    dt = time_to_expiry / stdnorm_random_variates.shape[1]\n",
        "    sigma = implied_vol\n",
        "    r = risk_free_rate\n",
        "    B = barrier\n",
        "    # B_shift = B*torch.exp(0.5826*sigma*torch.sqrt(dt))\n",
        "    B_shift = B\n",
        "    S_T = S * torch.cumprod(torch.exp((r-sigma**2/2)*dt+sigma*torch.sqrt(dt)*stdnorm_random_variates), dim=1)\n",
        "    non_touch = torch.min(S_T, dim=1)[0] > B_shift\n",
        "    non_touch = non_touch.type(torch.cuda.FloatTensor)\n",
        "    call_payout = S_T[:,-1] - K\n",
        "    call_payout[call_payout<0]=0\n",
        "    doc_payout = torch.mean(non_touch * call_payout)\n",
        "    return torch.exp(-time_to_expiry*r)*doc_payout, non_touch"
      ],
      "metadata": {
        "id": "7j1hyxcUkdgz"
      },
      "execution_count": null,
      "outputs": []
    },
    {
      "cell_type": "code",
      "source": [
        "# %%timeit -n 10\n",
        "t_S_0 = torch.tensor([S_0], requires_grad=True, device='cuda')\n",
        "t_strike = torch.tensor([strike], requires_grad=True, device='cuda')\n",
        "t_time_to_expiry = torch.tensor([time_to_expiry], requires_grad=True, device='cuda')\n",
        "t_implied_vol = torch.tensor([implied_vol], requires_grad=True, device='cuda')\n",
        "t_risk_free_rate = torch.tensor([risk_free_rate], requires_grad=True, device='cuda')\n",
        "t_barrier = torch.tensor([barrier], requires_grad=True, device='cuda')\n",
        "doc_mc_torch, non_touch = monte_carlo_down_out_torch_cuda(t_S_0, t_strike, t_time_to_expiry, t_implied_vol, t_risk_free_rate, t_barrier, steps, trials)\n",
        "print(doc_mc_torch)\n",
        "doc_mc_torch[0].backward()\n"
      ],
      "metadata": {
        "colab": {
          "base_uri": "https://localhost:8080/"
        },
        "id": "U3QtZK9xlRL7",
        "outputId": "131b2f79-2443-4cb8-b277-3aaf7ede9407"
      },
      "execution_count": null,
      "outputs": [
        {
          "output_type": "stream",
          "name": "stdout",
          "text": [
            "tensor([23.3795], device='cuda:0', grad_fn=<MulBackward0>)\n"
          ]
        }
      ]
    },
    {
      "cell_type": "code",
      "source": [
        "delta = t_S_0.grad\n",
        "delta"
      ],
      "metadata": {
        "colab": {
          "base_uri": "https://localhost:8080/"
        },
        "id": "d3rGIkZBnSEN",
        "outputId": "8db377f6-53b1-4efc-8311-91d760532311"
      },
      "execution_count": null,
      "outputs": [
        {
          "output_type": "execute_result",
          "data": {
            "text/plain": [
              "tensor([0.9621], device='cuda:0')"
            ]
          },
          "metadata": {},
          "execution_count": 11
        }
      ]
    },
    {
      "cell_type": "code",
      "source": [
        "# def simulate_correlated_w(opt1, opt2, opt3, corr):\n",
        "#   w1 = torch.cuda.FloatTensor(trials, steps).normal_()\n",
        "#   w2 = torch.cuda.FloatTensor(trials, steps).normal_()\n",
        "#   w3 = torch.cuda.FloatTensor(trials, steps).normal_()\n",
        "#   L = torch.cholesky(corr)"
      ],
      "metadata": {
        "id": "UVLo5s8MFKrk"
      },
      "execution_count": null,
      "outputs": []
    },
    {
      "cell_type": "code",
      "source": [
        "# # %%timeit -n 10\n",
        "# w = torch.cuda.FloatTensor(trials, steps, 3).normal_()\n",
        "# w_cpu = w.to('cpu')"
      ],
      "metadata": {
        "id": "jy8Z_hWdQssD"
      },
      "execution_count": null,
      "outputs": []
    },
    {
      "cell_type": "code",
      "source": [
        "!pip install yfinance"
      ],
      "metadata": {
        "colab": {
          "base_uri": "https://localhost:8080/"
        },
        "id": "c7k4LLwLmJL1",
        "outputId": "f7969505-bd90-4608-cb99-b408ef7501a7"
      },
      "execution_count": null,
      "outputs": [
        {
          "output_type": "stream",
          "name": "stdout",
          "text": [
            "Collecting yfinance\n",
            "  Downloading yfinance-0.1.70-py2.py3-none-any.whl (26 kB)\n",
            "Requirement already satisfied: multitasking>=0.0.7 in /usr/local/lib/python3.7/dist-packages (from yfinance) (0.0.10)\n",
            "Requirement already satisfied: pandas>=0.24.0 in /usr/local/lib/python3.7/dist-packages (from yfinance) (1.3.5)\n",
            "Requirement already satisfied: numpy>=1.15 in /usr/local/lib/python3.7/dist-packages (from yfinance) (1.19.5)\n",
            "Collecting requests>=2.26\n",
            "  Downloading requests-2.27.1-py2.py3-none-any.whl (63 kB)\n",
            "\u001b[K     |████████████████████████████████| 63 kB 1.4 MB/s \n",
            "\u001b[?25hCollecting lxml>=4.5.1\n",
            "  Downloading lxml-4.7.1-cp37-cp37m-manylinux_2_17_x86_64.manylinux2014_x86_64.manylinux_2_24_x86_64.whl (6.4 MB)\n",
            "\u001b[K     |████████████████████████████████| 6.4 MB 8.9 MB/s \n",
            "\u001b[?25hRequirement already satisfied: python-dateutil>=2.7.3 in /usr/local/lib/python3.7/dist-packages (from pandas>=0.24.0->yfinance) (2.8.2)\n",
            "Requirement already satisfied: pytz>=2017.3 in /usr/local/lib/python3.7/dist-packages (from pandas>=0.24.0->yfinance) (2018.9)\n",
            "Requirement already satisfied: six>=1.5 in /usr/local/lib/python3.7/dist-packages (from python-dateutil>=2.7.3->pandas>=0.24.0->yfinance) (1.15.0)\n",
            "Requirement already satisfied: charset-normalizer~=2.0.0 in /usr/local/lib/python3.7/dist-packages (from requests>=2.26->yfinance) (2.0.11)\n",
            "Requirement already satisfied: certifi>=2017.4.17 in /usr/local/lib/python3.7/dist-packages (from requests>=2.26->yfinance) (2021.10.8)\n",
            "Requirement already satisfied: idna<4,>=2.5 in /usr/local/lib/python3.7/dist-packages (from requests>=2.26->yfinance) (2.10)\n",
            "Requirement already satisfied: urllib3<1.27,>=1.21.1 in /usr/local/lib/python3.7/dist-packages (from requests>=2.26->yfinance) (1.24.3)\n",
            "Installing collected packages: requests, lxml, yfinance\n",
            "  Attempting uninstall: requests\n",
            "    Found existing installation: requests 2.23.0\n",
            "    Uninstalling requests-2.23.0:\n",
            "      Successfully uninstalled requests-2.23.0\n",
            "  Attempting uninstall: lxml\n",
            "    Found existing installation: lxml 4.2.6\n",
            "    Uninstalling lxml-4.2.6:\n",
            "      Successfully uninstalled lxml-4.2.6\n",
            "\u001b[31mERROR: pip's dependency resolver does not currently take into account all the packages that are installed. This behaviour is the source of the following dependency conflicts.\n",
            "google-colab 1.0.0 requires requests~=2.23.0, but you have requests 2.27.1 which is incompatible.\n",
            "datascience 0.10.6 requires folium==0.2.1, but you have folium 0.8.3 which is incompatible.\u001b[0m\n",
            "Successfully installed lxml-4.7.1 requests-2.27.1 yfinance-0.1.70\n"
          ]
        }
      ]
    },
    {
      "cell_type": "code",
      "source": [
        "import yfinance as yf\n",
        "s1 = \"PTT.BK\"\n",
        "s2 = \"PTTGC.BK\"\n",
        "s3 = \"KCE.BK\"\n",
        "prices = yf.download(\"{}, {}, {}\".format(s1, s2, s3), start=\"2021-01-01\", end=\"2021-01-31\")['Close']\n",
        "returns = prices.pct_change().dropna()\n",
        "cov_thai = returns.cov()*252\n",
        "cov_thai"
      ],
      "metadata": {
        "colab": {
          "base_uri": "https://localhost:8080/",
          "height": 161
        },
        "id": "WRWAbQhAFkPU",
        "outputId": "16729181-c53c-427e-8f6b-0a0029e0564d"
      },
      "execution_count": null,
      "outputs": [
        {
          "output_type": "stream",
          "name": "stdout",
          "text": [
            "[*********************100%***********************]  3 of 3 completed\n"
          ]
        },
        {
          "output_type": "execute_result",
          "data": {
            "text/html": [
              "\n",
              "  <div id=\"df-9f66fe84-be81-4662-9ff2-1a2344ecd40e\">\n",
              "    <div class=\"colab-df-container\">\n",
              "      <div>\n",
              "<style scoped>\n",
              "    .dataframe tbody tr th:only-of-type {\n",
              "        vertical-align: middle;\n",
              "    }\n",
              "\n",
              "    .dataframe tbody tr th {\n",
              "        vertical-align: top;\n",
              "    }\n",
              "\n",
              "    .dataframe thead th {\n",
              "        text-align: right;\n",
              "    }\n",
              "</style>\n",
              "<table border=\"1\" class=\"dataframe\">\n",
              "  <thead>\n",
              "    <tr style=\"text-align: right;\">\n",
              "      <th></th>\n",
              "      <th>KCE.BK</th>\n",
              "      <th>PTT.BK</th>\n",
              "      <th>PTTGC.BK</th>\n",
              "    </tr>\n",
              "  </thead>\n",
              "  <tbody>\n",
              "    <tr>\n",
              "      <th>KCE.BK</th>\n",
              "      <td>0.329902</td>\n",
              "      <td>0.023370</td>\n",
              "      <td>-0.001834</td>\n",
              "    </tr>\n",
              "    <tr>\n",
              "      <th>PTT.BK</th>\n",
              "      <td>0.023370</td>\n",
              "      <td>0.062930</td>\n",
              "      <td>0.027122</td>\n",
              "    </tr>\n",
              "    <tr>\n",
              "      <th>PTTGC.BK</th>\n",
              "      <td>-0.001834</td>\n",
              "      <td>0.027122</td>\n",
              "      <td>0.088587</td>\n",
              "    </tr>\n",
              "  </tbody>\n",
              "</table>\n",
              "</div>\n",
              "      <button class=\"colab-df-convert\" onclick=\"convertToInteractive('df-9f66fe84-be81-4662-9ff2-1a2344ecd40e')\"\n",
              "              title=\"Convert this dataframe to an interactive table.\"\n",
              "              style=\"display:none;\">\n",
              "        \n",
              "  <svg xmlns=\"http://www.w3.org/2000/svg\" height=\"24px\"viewBox=\"0 0 24 24\"\n",
              "       width=\"24px\">\n",
              "    <path d=\"M0 0h24v24H0V0z\" fill=\"none\"/>\n",
              "    <path d=\"M18.56 5.44l.94 2.06.94-2.06 2.06-.94-2.06-.94-.94-2.06-.94 2.06-2.06.94zm-11 1L8.5 8.5l.94-2.06 2.06-.94-2.06-.94L8.5 2.5l-.94 2.06-2.06.94zm10 10l.94 2.06.94-2.06 2.06-.94-2.06-.94-.94-2.06-.94 2.06-2.06.94z\"/><path d=\"M17.41 7.96l-1.37-1.37c-.4-.4-.92-.59-1.43-.59-.52 0-1.04.2-1.43.59L10.3 9.45l-7.72 7.72c-.78.78-.78 2.05 0 2.83L4 21.41c.39.39.9.59 1.41.59.51 0 1.02-.2 1.41-.59l7.78-7.78 2.81-2.81c.8-.78.8-2.07 0-2.86zM5.41 20L4 18.59l7.72-7.72 1.47 1.35L5.41 20z\"/>\n",
              "  </svg>\n",
              "      </button>\n",
              "      \n",
              "  <style>\n",
              "    .colab-df-container {\n",
              "      display:flex;\n",
              "      flex-wrap:wrap;\n",
              "      gap: 12px;\n",
              "    }\n",
              "\n",
              "    .colab-df-convert {\n",
              "      background-color: #E8F0FE;\n",
              "      border: none;\n",
              "      border-radius: 50%;\n",
              "      cursor: pointer;\n",
              "      display: none;\n",
              "      fill: #1967D2;\n",
              "      height: 32px;\n",
              "      padding: 0 0 0 0;\n",
              "      width: 32px;\n",
              "    }\n",
              "\n",
              "    .colab-df-convert:hover {\n",
              "      background-color: #E2EBFA;\n",
              "      box-shadow: 0px 1px 2px rgba(60, 64, 67, 0.3), 0px 1px 3px 1px rgba(60, 64, 67, 0.15);\n",
              "      fill: #174EA6;\n",
              "    }\n",
              "\n",
              "    [theme=dark] .colab-df-convert {\n",
              "      background-color: #3B4455;\n",
              "      fill: #D2E3FC;\n",
              "    }\n",
              "\n",
              "    [theme=dark] .colab-df-convert:hover {\n",
              "      background-color: #434B5C;\n",
              "      box-shadow: 0px 1px 3px 1px rgba(0, 0, 0, 0.15);\n",
              "      filter: drop-shadow(0px 1px 2px rgba(0, 0, 0, 0.3));\n",
              "      fill: #FFFFFF;\n",
              "    }\n",
              "  </style>\n",
              "\n",
              "      <script>\n",
              "        const buttonEl =\n",
              "          document.querySelector('#df-9f66fe84-be81-4662-9ff2-1a2344ecd40e button.colab-df-convert');\n",
              "        buttonEl.style.display =\n",
              "          google.colab.kernel.accessAllowed ? 'block' : 'none';\n",
              "\n",
              "        async function convertToInteractive(key) {\n",
              "          const element = document.querySelector('#df-9f66fe84-be81-4662-9ff2-1a2344ecd40e');\n",
              "          const dataTable =\n",
              "            await google.colab.kernel.invokeFunction('convertToInteractive',\n",
              "                                                     [key], {});\n",
              "          if (!dataTable) return;\n",
              "\n",
              "          const docLinkHtml = 'Like what you see? Visit the ' +\n",
              "            '<a target=\"_blank\" href=https://colab.research.google.com/notebooks/data_table.ipynb>data table notebook</a>'\n",
              "            + ' to learn more about interactive tables.';\n",
              "          element.innerHTML = '';\n",
              "          dataTable['output_type'] = 'display_data';\n",
              "          await google.colab.output.renderOutput(dataTable, element);\n",
              "          const docLink = document.createElement('div');\n",
              "          docLink.innerHTML = docLinkHtml;\n",
              "          element.appendChild(docLink);\n",
              "        }\n",
              "      </script>\n",
              "    </div>\n",
              "  </div>\n",
              "  "
            ],
            "text/plain": [
              "            KCE.BK    PTT.BK  PTTGC.BK\n",
              "KCE.BK    0.329902  0.023370 -0.001834\n",
              "PTT.BK    0.023370  0.062930  0.027122\n",
              "PTTGC.BK -0.001834  0.027122  0.088587"
            ]
          },
          "metadata": {},
          "execution_count": 13
        }
      ]
    },
    {
      "cell_type": "code",
      "source": [
        "class OptionSpec:\n",
        "  def __init__(self, s0, k, implied_vol, barrier, ki, time_to_expiry, risk_free_rate):\n",
        "    self.s0 = torch.tensor([s0], requires_grad=True, device='cuda')\n",
        "    self.k = torch.tensor([k], requires_grad=True, device='cuda')\n",
        "    self.implied_vol = torch.tensor([implied_vol], requires_grad=True, device='cuda')\n",
        "    self.barrier = torch.tensor([barrier], device='cuda')\n",
        "    self.ki = torch.tensor([ki], device='cuda')\n",
        "    self.time_to_expiry =  torch.tensor([time_to_expiry], requires_grad=True, device='cuda')\n",
        "    self.risk_free_rate = torch.tensor([risk_free_rate], requires_grad=True, device='cuda')"
      ],
      "metadata": {
        "id": "gF28cwEW_YRM"
      },
      "execution_count": null,
      "outputs": []
    },
    {
      "cell_type": "code",
      "source": [
        "trials = 100000\n",
        "steps =100\n",
        "time_to_expiry = 0.5\n",
        "risk_free_rate = 0.03\n",
        "\n",
        "S_1 = prices.iloc[-1,0]\n",
        "strike_1 = S_1* 0.9\n",
        "implied_vol_1 = 0.3\n",
        "barrier_1 = S_1 * 1.10\n",
        "ki_1 = S_1 * 0.7\n",
        "opt1 = OptionSpec(S_1, strike_1, implied_vol_1, barrier_1, ki_1, time_to_expiry, risk_free_rate)\n",
        "\n",
        "S_2 = prices.iloc[-1,1]\n",
        "strike_2 = S_2* 0.9\n",
        "implied_vol_2 = 0.3\n",
        "barrier_2 = S_2 * 1.10\n",
        "ki_2 = S_2 * 0.7\n",
        "opt2 = OptionSpec(S_2, strike_2, implied_vol_2, barrier_2,ki_2, time_to_expiry, risk_free_rate)\n",
        "\n",
        "S_3 = prices.iloc[-1,2]\n",
        "strike_3 = S_3* 0.9\n",
        "implied_vol_3 = 0.3\n",
        "barrier_3 = S_3* 1.10\n",
        "ki_3 = S_3 * 0.7\n",
        "opt3 = OptionSpec(S_3, strike_3, implied_vol_3, barrier_3,ki_3, time_to_expiry, risk_free_rate)\n",
        "\n",
        "# corr = np.array([[1.0, 0.8, -0.3], [0.8, 1.0, 0.2], [-0.3, 0.2, 1.0]])\n",
        "# corr_torch = torch.from_numpy(corr).float()\n"
      ],
      "metadata": {
        "id": "AjF9UQFb-TZW"
      },
      "execution_count": null,
      "outputs": []
    },
    {
      "cell_type": "code",
      "source": [
        "from torch.distributions.multivariate_normal import MultivariateNormal\n",
        "mean = torch.Tensor([0, 0, 0])\n",
        "cov_tensor = torch.from_numpy(pd.DataFrame.to_numpy(cov_thai)).to(dtype=torch.float32)\n",
        "# distrib = MultivariateNormal(loc=mean, covariance_matrix=cov_tensor)\n",
        "dist2 = np.random.multivariate_normal(mean, cov_tensor / 252, [1000,250])\n",
        "dist2 = torch.from_numpy(dist2).to('cuda')\n"
      ],
      "metadata": {
        "id": "yaAIazn-REnS"
      },
      "execution_count": null,
      "outputs": []
    },
    {
      "cell_type": "code",
      "source": [
        "dist2[:,:,0].shape"
      ],
      "metadata": {
        "colab": {
          "base_uri": "https://localhost:8080/"
        },
        "id": "UUHqd0cn1_Tb",
        "outputId": "657bf397-db32-4e27-bd9f-753af09d0435"
      },
      "execution_count": null,
      "outputs": [
        {
          "output_type": "execute_result",
          "data": {
            "text/plain": [
              "torch.Size([1000, 250])"
            ]
          },
          "metadata": {},
          "execution_count": 17
        }
      ]
    },
    {
      "cell_type": "code",
      "source": [
        "dt = torch.tensor(time_to_expiry / steps)\n",
        "# S_1 = opt1.s0 * torch.cumprod(torch.exp((opt1.risk_free_rate-opt1.implied_vol**2/2)*dt+opt1.implied_vol*torch.sqrt(dt)*dist2[:,0]), dim=0)\n",
        "# S_2 = opt2.s0 * torch.cumprod(torch.exp((opt2.risk_free_rate-opt2.implied_vol**2/2)*dt+opt2.implied_vol*torch.sqrt(dt)*dist2[:,1]), dim=0)\n",
        "# S_3 = opt3.s0 * torch.cumprod(torch.exp((opt3.risk_free_rate-opt3.implied_vol**2/2)*dt+opt3.implied_vol*torch.sqrt(dt)*dist2[:,2]), dim=0)\n",
        "S_1 = opt1.s0 * torch.cumprod(torch.exp(dist2[:,:,0]), dim=1)\n",
        "S_2 = opt2.s0 * torch.cumprod(torch.exp(dist2[:,:,1]), dim=1)\n",
        "S_3 = opt3.s0 * torch.cumprod(torch.exp(dist2[:,:,2]), dim=1)\n"
      ],
      "metadata": {
        "id": "4qLDFOveWNxC"
      },
      "execution_count": null,
      "outputs": []
    },
    {
      "cell_type": "code",
      "source": [
        "torch.Tensor.ndim = property(lambda self: len(self.shape)) \n",
        "S_1_np = S_1.cpu().detach().numpy()[1]\n",
        "S_2_np = S_2.cpu().detach().numpy()[1]\n",
        "S_3_np = S_3.cpu().detach().numpy()[1]\n",
        "plot_price = pd.DataFrame({prices.columns[0]:S_1_np, prices.columns[1]:S_2_np, prices.columns[2]:S_3_np})\n",
        "# plt.plot(plot_price)\n",
        "plot_price.plot()"
      ],
      "metadata": {
        "colab": {
          "base_uri": "https://localhost:8080/",
          "height": 282
        },
        "id": "Yfyr_wXKcPx_",
        "outputId": "1b6b0362-04b2-4bde-c8ec-6fe544d2c501"
      },
      "execution_count": null,
      "outputs": [
        {
          "output_type": "execute_result",
          "data": {
            "text/plain": [
              "<matplotlib.axes._subplots.AxesSubplot at 0x7fe9927effd0>"
            ]
          },
          "metadata": {},
          "execution_count": 19
        },
        {
          "output_type": "display_data",
          "data": {
            "image/png": "[encoded data removed]",
            "text/plain": [
              "<Figure size 432x288 with 1 Axes>"
            ]
          },
          "metadata": {
            "needs_background": "light"
          }
        }
      ]
    },
    {
      "cell_type": "code",
      "source": [
        "returns_sim = plot_price.pct_change().dropna()\n",
        "cov_sim = returns_sim.cov() * 252\n",
        "cov_sim"
      ],
      "metadata": {
        "colab": {
          "base_uri": "https://localhost:8080/",
          "height": 143
        },
        "id": "A7Dzwgv4xSfJ",
        "outputId": "2a138495-9ccf-4f10-c192-afb30314842e"
      },
      "execution_count": null,
      "outputs": [
        {
          "output_type": "execute_result",
          "data": {
            "text/html": [
              "\n",
              "  <div id=\"df-87fc07c4-27ba-4f0e-90d7-4de61a74fef2\">\n",
              "    <div class=\"colab-df-container\">\n",
              "      <div>\n",
              "<style scoped>\n",
              "    .dataframe tbody tr th:only-of-type {\n",
              "        vertical-align: middle;\n",
              "    }\n",
              "\n",
              "    .dataframe tbody tr th {\n",
              "        vertical-align: top;\n",
              "    }\n",
              "\n",
              "    .dataframe thead th {\n",
              "        text-align: right;\n",
              "    }\n",
              "</style>\n",
              "<table border=\"1\" class=\"dataframe\">\n",
              "  <thead>\n",
              "    <tr style=\"text-align: right;\">\n",
              "      <th></th>\n",
              "      <th>KCE.BK</th>\n",
              "      <th>PTT.BK</th>\n",
              "      <th>PTTGC.BK</th>\n",
              "    </tr>\n",
              "  </thead>\n",
              "  <tbody>\n",
              "    <tr>\n",
              "      <th>KCE.BK</th>\n",
              "      <td>0.394801</td>\n",
              "      <td>0.031438</td>\n",
              "      <td>0.005814</td>\n",
              "    </tr>\n",
              "    <tr>\n",
              "      <th>PTT.BK</th>\n",
              "      <td>0.031438</td>\n",
              "      <td>0.062943</td>\n",
              "      <td>0.028369</td>\n",
              "    </tr>\n",
              "    <tr>\n",
              "      <th>PTTGC.BK</th>\n",
              "      <td>0.005814</td>\n",
              "      <td>0.028369</td>\n",
              "      <td>0.088186</td>\n",
              "    </tr>\n",
              "  </tbody>\n",
              "</table>\n",
              "</div>\n",
              "      <button class=\"colab-df-convert\" onclick=\"convertToInteractive('df-87fc07c4-27ba-4f0e-90d7-4de61a74fef2')\"\n",
              "              title=\"Convert this dataframe to an interactive table.\"\n",
              "              style=\"display:none;\">\n",
              "        \n",
              "  <svg xmlns=\"http://www.w3.org/2000/svg\" height=\"24px\"viewBox=\"0 0 24 24\"\n",
              "       width=\"24px\">\n",
              "    <path d=\"M0 0h24v24H0V0z\" fill=\"none\"/>\n",
              "    <path d=\"M18.56 5.44l.94 2.06.94-2.06 2.06-.94-2.06-.94-.94-2.06-.94 2.06-2.06.94zm-11 1L8.5 8.5l.94-2.06 2.06-.94-2.06-.94L8.5 2.5l-.94 2.06-2.06.94zm10 10l.94 2.06.94-2.06 2.06-.94-2.06-.94-.94-2.06-.94 2.06-2.06.94z\"/><path d=\"M17.41 7.96l-1.37-1.37c-.4-.4-.92-.59-1.43-.59-.52 0-1.04.2-1.43.59L10.3 9.45l-7.72 7.72c-.78.78-.78 2.05 0 2.83L4 21.41c.39.39.9.59 1.41.59.51 0 1.02-.2 1.41-.59l7.78-7.78 2.81-2.81c.8-.78.8-2.07 0-2.86zM5.41 20L4 18.59l7.72-7.72 1.47 1.35L5.41 20z\"/>\n",
              "  </svg>\n",
              "      </button>\n",
              "      \n",
              "  <style>\n",
              "    .colab-df-container {\n",
              "      display:flex;\n",
              "      flex-wrap:wrap;\n",
              "      gap: 12px;\n",
              "    }\n",
              "\n",
              "    .colab-df-convert {\n",
              "      background-color: #E8F0FE;\n",
              "      border: none;\n",
              "      border-radius: 50%;\n",
              "      cursor: pointer;\n",
              "      display: none;\n",
              "      fill: #1967D2;\n",
              "      height: 32px;\n",
              "      padding: 0 0 0 0;\n",
              "      width: 32px;\n",
              "    }\n",
              "\n",
              "    .colab-df-convert:hover {\n",
              "      background-color: #E2EBFA;\n",
              "      box-shadow: 0px 1px 2px rgba(60, 64, 67, 0.3), 0px 1px 3px 1px rgba(60, 64, 67, 0.15);\n",
              "      fill: #174EA6;\n",
              "    }\n",
              "\n",
              "    [theme=dark] .colab-df-convert {\n",
              "      background-color: #3B4455;\n",
              "      fill: #D2E3FC;\n",
              "    }\n",
              "\n",
              "    [theme=dark] .colab-df-convert:hover {\n",
              "      background-color: #434B5C;\n",
              "      box-shadow: 0px 1px 3px 1px rgba(0, 0, 0, 0.15);\n",
              "      filter: drop-shadow(0px 1px 2px rgba(0, 0, 0, 0.3));\n",
              "      fill: #FFFFFF;\n",
              "    }\n",
              "  </style>\n",
              "\n",
              "      <script>\n",
              "        const buttonEl =\n",
              "          document.querySelector('#df-87fc07c4-27ba-4f0e-90d7-4de61a74fef2 button.colab-df-convert');\n",
              "        buttonEl.style.display =\n",
              "          google.colab.kernel.accessAllowed ? 'block' : 'none';\n",
              "\n",
              "        async function convertToInteractive(key) {\n",
              "          const element = document.querySelector('#df-87fc07c4-27ba-4f0e-90d7-4de61a74fef2');\n",
              "          const dataTable =\n",
              "            await google.colab.kernel.invokeFunction('convertToInteractive',\n",
              "                                                     [key], {});\n",
              "          if (!dataTable) return;\n",
              "\n",
              "          const docLinkHtml = 'Like what you see? Visit the ' +\n",
              "            '<a target=\"_blank\" href=https://colab.research.google.com/notebooks/data_table.ipynb>data table notebook</a>'\n",
              "            + ' to learn more about interactive tables.';\n",
              "          element.innerHTML = '';\n",
              "          dataTable['output_type'] = 'display_data';\n",
              "          await google.colab.output.renderOutput(dataTable, element);\n",
              "          const docLink = document.createElement('div');\n",
              "          docLink.innerHTML = docLinkHtml;\n",
              "          element.appendChild(docLink);\n",
              "        }\n",
              "      </script>\n",
              "    </div>\n",
              "  </div>\n",
              "  "
            ],
            "text/plain": [
              "            KCE.BK    PTT.BK  PTTGC.BK\n",
              "KCE.BK    0.394801  0.031438  0.005814\n",
              "PTT.BK    0.031438  0.062943  0.028369\n",
              "PTTGC.BK  0.005814  0.028369  0.088186"
            ]
          },
          "metadata": {},
          "execution_count": 20
        }
      ]
    },
    {
      "cell_type": "code",
      "source": [
        "samp2 = distrib.sample([100, 1000])\n",
        "samp2 = samp2.to('cuda')\n",
        "samp2.shape"
      ],
      "metadata": {
        "colab": {
          "base_uri": "https://localhost:8080/",
          "height": 201
        },
        "id": "WTIwp3McRsgJ",
        "outputId": "da8f741c-edc4-4295-c69b-a8aa49f25eeb"
      },
      "execution_count": null,
      "outputs": [
        {
          "output_type": "error",
          "ename": "NameError",
          "evalue": "ignored",
          "traceback": [
            "\u001b[0;31m---------------------------------------------------------------------------\u001b[0m",
            "\u001b[0;31mNameError\u001b[0m                                 Traceback (most recent call last)",
            "\u001b[0;32m<ipython-input-21-a0e889c15e9e>\u001b[0m in \u001b[0;36m<module>\u001b[0;34m()\u001b[0m\n\u001b[0;32m----> 1\u001b[0;31m \u001b[0msamp2\u001b[0m \u001b[0;34m=\u001b[0m \u001b[0mdistrib\u001b[0m\u001b[0;34m.\u001b[0m\u001b[0msample\u001b[0m\u001b[0;34m(\u001b[0m\u001b[0;34m[\u001b[0m\u001b[0;36m100\u001b[0m\u001b[0;34m,\u001b[0m \u001b[0;36m1000\u001b[0m\u001b[0;34m]\u001b[0m\u001b[0;34m)\u001b[0m\u001b[0;34m\u001b[0m\u001b[0;34m\u001b[0m\u001b[0m\n\u001b[0m\u001b[1;32m      2\u001b[0m \u001b[0msamp2\u001b[0m \u001b[0;34m=\u001b[0m \u001b[0msamp2\u001b[0m\u001b[0;34m.\u001b[0m\u001b[0mto\u001b[0m\u001b[0;34m(\u001b[0m\u001b[0;34m'cuda'\u001b[0m\u001b[0;34m)\u001b[0m\u001b[0;34m\u001b[0m\u001b[0;34m\u001b[0m\u001b[0m\n\u001b[1;32m      3\u001b[0m \u001b[0msamp2\u001b[0m\u001b[0;34m.\u001b[0m\u001b[0mshape\u001b[0m\u001b[0;34m\u001b[0m\u001b[0;34m\u001b[0m\u001b[0m\n",
            "\u001b[0;31mNameError\u001b[0m: name 'distrib' is not defined"
          ]
        }
      ]
    },
    {
      "cell_type": "code",
      "source": [
        "dt = torch.tensor(time_to_expiry / steps)\n",
        "# dt.shape\n",
        "# dt = time_to_expiry /steps\n",
        "S_1_sim = opt1.s0 * torch.cumprod(torch.exp((opt1.risk_free_rate-opt1.implied_vol**2/2)*dt+opt1.implied_vol*torch.sqrt(dt)*samp2[:,:,0]), dim=0)\n",
        "S_2_sim = opt2.s0 * torch.cumprod(torch.exp((opt2.risk_free_rate-opt2.implied_vol**2/2)*dt+opt2.implied_vol*torch.sqrt(dt)*samp2[:,:,1]), dim=0)\n",
        "S_3_sim = opt3.s0 * torch.cumprod(torch.exp((opt3.risk_free_rate-opt3.implied_vol**2/2)*dt+opt3.implied_vol*torch.sqrt(dt)*samp2[:,:,2]), dim=0)\n"
      ],
      "metadata": {
        "colab": {
          "base_uri": "https://localhost:8080/",
          "height": 288
        },
        "id": "UUMbR2Bkok2Z",
        "outputId": "6e5a61f6-ecc5-454a-b1f8-2c36a2736620"
      },
      "execution_count": null,
      "outputs": [
        {
          "output_type": "error",
          "ename": "NameError",
          "evalue": "ignored",
          "traceback": [
            "\u001b[0;31m---------------------------------------------------------------------------\u001b[0m",
            "\u001b[0;31mNameError\u001b[0m                                 Traceback (most recent call last)",
            "\u001b[0;32m<ipython-input-22-06c0b6ca07a0>\u001b[0m in \u001b[0;36m<module>\u001b[0;34m()\u001b[0m\n\u001b[1;32m      2\u001b[0m \u001b[0;31m# dt.shape\u001b[0m\u001b[0;34m\u001b[0m\u001b[0;34m\u001b[0m\u001b[0;34m\u001b[0m\u001b[0m\n\u001b[1;32m      3\u001b[0m \u001b[0;31m# dt = time_to_expiry /steps\u001b[0m\u001b[0;34m\u001b[0m\u001b[0;34m\u001b[0m\u001b[0;34m\u001b[0m\u001b[0m\n\u001b[0;32m----> 4\u001b[0;31m \u001b[0mS_1_sim\u001b[0m \u001b[0;34m=\u001b[0m \u001b[0mopt1\u001b[0m\u001b[0;34m.\u001b[0m\u001b[0ms0\u001b[0m \u001b[0;34m*\u001b[0m \u001b[0mtorch\u001b[0m\u001b[0;34m.\u001b[0m\u001b[0mcumprod\u001b[0m\u001b[0;34m(\u001b[0m\u001b[0mtorch\u001b[0m\u001b[0;34m.\u001b[0m\u001b[0mexp\u001b[0m\u001b[0;34m(\u001b[0m\u001b[0;34m(\u001b[0m\u001b[0mopt1\u001b[0m\u001b[0;34m.\u001b[0m\u001b[0mrisk_free_rate\u001b[0m\u001b[0;34m-\u001b[0m\u001b[0mopt1\u001b[0m\u001b[0;34m.\u001b[0m\u001b[0mimplied_vol\u001b[0m\u001b[0;34m**\u001b[0m\u001b[0;36m2\u001b[0m\u001b[0;34m/\u001b[0m\u001b[0;36m2\u001b[0m\u001b[0;34m)\u001b[0m\u001b[0;34m*\u001b[0m\u001b[0mdt\u001b[0m\u001b[0;34m+\u001b[0m\u001b[0mopt1\u001b[0m\u001b[0;34m.\u001b[0m\u001b[0mimplied_vol\u001b[0m\u001b[0;34m*\u001b[0m\u001b[0mtorch\u001b[0m\u001b[0;34m.\u001b[0m\u001b[0msqrt\u001b[0m\u001b[0;34m(\u001b[0m\u001b[0mdt\u001b[0m\u001b[0;34m)\u001b[0m\u001b[0;34m*\u001b[0m\u001b[0msamp2\u001b[0m\u001b[0;34m[\u001b[0m\u001b[0;34m:\u001b[0m\u001b[0;34m,\u001b[0m\u001b[0;34m:\u001b[0m\u001b[0;34m,\u001b[0m\u001b[0;36m0\u001b[0m\u001b[0;34m]\u001b[0m\u001b[0;34m)\u001b[0m\u001b[0;34m,\u001b[0m \u001b[0mdim\u001b[0m\u001b[0;34m=\u001b[0m\u001b[0;36m0\u001b[0m\u001b[0;34m)\u001b[0m\u001b[0;34m\u001b[0m\u001b[0;34m\u001b[0m\u001b[0m\n\u001b[0m\u001b[1;32m      5\u001b[0m \u001b[0mS_2_sim\u001b[0m \u001b[0;34m=\u001b[0m \u001b[0mopt2\u001b[0m\u001b[0;34m.\u001b[0m\u001b[0ms0\u001b[0m \u001b[0;34m*\u001b[0m \u001b[0mtorch\u001b[0m\u001b[0;34m.\u001b[0m\u001b[0mcumprod\u001b[0m\u001b[0;34m(\u001b[0m\u001b[0mtorch\u001b[0m\u001b[0;34m.\u001b[0m\u001b[0mexp\u001b[0m\u001b[0;34m(\u001b[0m\u001b[0;34m(\u001b[0m\u001b[0mopt2\u001b[0m\u001b[0;34m.\u001b[0m\u001b[0mrisk_free_rate\u001b[0m\u001b[0;34m-\u001b[0m\u001b[0mopt2\u001b[0m\u001b[0;34m.\u001b[0m\u001b[0mimplied_vol\u001b[0m\u001b[0;34m**\u001b[0m\u001b[0;36m2\u001b[0m\u001b[0;34m/\u001b[0m\u001b[0;36m2\u001b[0m\u001b[0;34m)\u001b[0m\u001b[0;34m*\u001b[0m\u001b[0mdt\u001b[0m\u001b[0;34m+\u001b[0m\u001b[0mopt2\u001b[0m\u001b[0;34m.\u001b[0m\u001b[0mimplied_vol\u001b[0m\u001b[0;34m*\u001b[0m\u001b[0mtorch\u001b[0m\u001b[0;34m.\u001b[0m\u001b[0msqrt\u001b[0m\u001b[0;34m(\u001b[0m\u001b[0mdt\u001b[0m\u001b[0;34m)\u001b[0m\u001b[0;34m*\u001b[0m\u001b[0msamp2\u001b[0m\u001b[0;34m[\u001b[0m\u001b[0;34m:\u001b[0m\u001b[0;34m,\u001b[0m\u001b[0;34m:\u001b[0m\u001b[0;34m,\u001b[0m\u001b[0;36m1\u001b[0m\u001b[0;34m]\u001b[0m\u001b[0;34m)\u001b[0m\u001b[0;34m,\u001b[0m \u001b[0mdim\u001b[0m\u001b[0;34m=\u001b[0m\u001b[0;36m0\u001b[0m\u001b[0;34m)\u001b[0m\u001b[0;34m\u001b[0m\u001b[0;34m\u001b[0m\u001b[0m\n\u001b[1;32m      6\u001b[0m \u001b[0mS_3_sim\u001b[0m \u001b[0;34m=\u001b[0m \u001b[0mopt3\u001b[0m\u001b[0;34m.\u001b[0m\u001b[0ms0\u001b[0m \u001b[0;34m*\u001b[0m \u001b[0mtorch\u001b[0m\u001b[0;34m.\u001b[0m\u001b[0mcumprod\u001b[0m\u001b[0;34m(\u001b[0m\u001b[0mtorch\u001b[0m\u001b[0;34m.\u001b[0m\u001b[0mexp\u001b[0m\u001b[0;34m(\u001b[0m\u001b[0;34m(\u001b[0m\u001b[0mopt3\u001b[0m\u001b[0;34m.\u001b[0m\u001b[0mrisk_free_rate\u001b[0m\u001b[0;34m-\u001b[0m\u001b[0mopt3\u001b[0m\u001b[0;34m.\u001b[0m\u001b[0mimplied_vol\u001b[0m\u001b[0;34m**\u001b[0m\u001b[0;36m2\u001b[0m\u001b[0;34m/\u001b[0m\u001b[0;36m2\u001b[0m\u001b[0;34m)\u001b[0m\u001b[0;34m*\u001b[0m\u001b[0mdt\u001b[0m\u001b[0;34m+\u001b[0m\u001b[0mopt3\u001b[0m\u001b[0;34m.\u001b[0m\u001b[0mimplied_vol\u001b[0m\u001b[0;34m*\u001b[0m\u001b[0mtorch\u001b[0m\u001b[0;34m.\u001b[0m\u001b[0msqrt\u001b[0m\u001b[0;34m(\u001b[0m\u001b[0mdt\u001b[0m\u001b[0;34m)\u001b[0m\u001b[0;34m*\u001b[0m\u001b[0msamp2\u001b[0m\u001b[0;34m[\u001b[0m\u001b[0;34m:\u001b[0m\u001b[0;34m,\u001b[0m\u001b[0;34m:\u001b[0m\u001b[0;34m,\u001b[0m\u001b[0;36m2\u001b[0m\u001b[0;34m]\u001b[0m\u001b[0;34m)\u001b[0m\u001b[0;34m,\u001b[0m \u001b[0mdim\u001b[0m\u001b[0;34m=\u001b[0m\u001b[0;36m0\u001b[0m\u001b[0;34m)\u001b[0m\u001b[0;34m\u001b[0m\u001b[0;34m\u001b[0m\u001b[0m\n",
            "\u001b[0;31mNameError\u001b[0m: name 'samp2' is not defined"
          ]
        }
      ]
    },
    {
      "cell_type": "code",
      "source": [
        "torch.Tensor.ndim = property(lambda self: len(self.shape)) \n",
        "tt = 0\n",
        "S_1_np = S_1_sim.cpu().detach().numpy()[:,tt]\n",
        "S_2_np = S_2_sim.cpu().detach().numpy()[:,tt]\n",
        "S_3_np = S_3_sim.cpu().detach().numpy()[:,tt]\n",
        "\n",
        "plt.plot(S_1_np)\n",
        "plt.plot(S_2_np)\n",
        "plt.plot(S_3_np)"
      ],
      "metadata": {
        "colab": {
          "base_uri": "https://localhost:8080/",
          "height": 282
        },
        "id": "URZGdyRno_79",
        "outputId": "4072111f-2ec7-4965-9635-2ef6f1e2a948"
      },
      "execution_count": null,
      "outputs": [
        {
          "output_type": "execute_result",
          "data": {
            "text/plain": [
              "[<matplotlib.lines.Line2D at 0x7f0c71dc2610>]"
            ]
          },
          "metadata": {},
          "execution_count": 107
        },
        {
          "output_type": "display_data",
          "data": {
            "image/png": "[encoded data removed]",
            "text/plain": [
              "<Figure size 432x288 with 1 Axes>"
            ]
          },
          "metadata": {
            "needs_background": "light"
          }
        }
      ]
    },
    {
      "cell_type": "code",
      "source": [
        "prices_sim = pd.DataFrame({s1: S_1_np, s2:S_2_np, s3:S_3_np})\n",
        "returns_sim = prices_sim.pct_change().dropna()\n",
        "cov_sim = returns_sim.cov() * 252\n",
        "cov_sim"
      ],
      "metadata": {
        "colab": {
          "base_uri": "https://localhost:8080/",
          "height": 143
        },
        "id": "TkvaZY4luw72",
        "outputId": "ed6c4224-b696-43c9-d3cf-1de8105275a4"
      },
      "execution_count": null,
      "outputs": [
        {
          "output_type": "execute_result",
          "data": {
            "text/html": [
              "\n",
              "  <div id=\"df-30636fe3-df8b-4d11-8320-ff5cb892c4a4\">\n",
              "    <div class=\"colab-df-container\">\n",
              "      <div>\n",
              "<style scoped>\n",
              "    .dataframe tbody tr th:only-of-type {\n",
              "        vertical-align: middle;\n",
              "    }\n",
              "\n",
              "    .dataframe tbody tr th {\n",
              "        vertical-align: top;\n",
              "    }\n",
              "\n",
              "    .dataframe thead th {\n",
              "        text-align: right;\n",
              "    }\n",
              "</style>\n",
              "<table border=\"1\" class=\"dataframe\">\n",
              "  <thead>\n",
              "    <tr style=\"text-align: right;\">\n",
              "      <th></th>\n",
              "      <th>PTT.BK</th>\n",
              "      <th>PTTGC.BK</th>\n",
              "      <th>KCE.BK</th>\n",
              "    </tr>\n",
              "  </thead>\n",
              "  <tbody>\n",
              "    <tr>\n",
              "      <th>PTT.BK</th>\n",
              "      <td>0.038394</td>\n",
              "      <td>0.001259</td>\n",
              "      <td>-0.001394</td>\n",
              "    </tr>\n",
              "    <tr>\n",
              "      <th>PTTGC.BK</th>\n",
              "      <td>0.001259</td>\n",
              "      <td>0.007346</td>\n",
              "      <td>0.003720</td>\n",
              "    </tr>\n",
              "    <tr>\n",
              "      <th>KCE.BK</th>\n",
              "      <td>-0.001394</td>\n",
              "      <td>0.003720</td>\n",
              "      <td>0.011219</td>\n",
              "    </tr>\n",
              "  </tbody>\n",
              "</table>\n",
              "</div>\n",
              "      <button class=\"colab-df-convert\" onclick=\"convertToInteractive('df-30636fe3-df8b-4d11-8320-ff5cb892c4a4')\"\n",
              "              title=\"Convert this dataframe to an interactive table.\"\n",
              "              style=\"display:none;\">\n",
              "        \n",
              "  <svg xmlns=\"http://www.w3.org/2000/svg\" height=\"24px\"viewBox=\"0 0 24 24\"\n",
              "       width=\"24px\">\n",
              "    <path d=\"M0 0h24v24H0V0z\" fill=\"none\"/>\n",
              "    <path d=\"M18.56 5.44l.94 2.06.94-2.06 2.06-.94-2.06-.94-.94-2.06-.94 2.06-2.06.94zm-11 1L8.5 8.5l.94-2.06 2.06-.94-2.06-.94L8.5 2.5l-.94 2.06-2.06.94zm10 10l.94 2.06.94-2.06 2.06-.94-2.06-.94-.94-2.06-.94 2.06-2.06.94z\"/><path d=\"M17.41 7.96l-1.37-1.37c-.4-.4-.92-.59-1.43-.59-.52 0-1.04.2-1.43.59L10.3 9.45l-7.72 7.72c-.78.78-.78 2.05 0 2.83L4 21.41c.39.39.9.59 1.41.59.51 0 1.02-.2 1.41-.59l7.78-7.78 2.81-2.81c.8-.78.8-2.07 0-2.86zM5.41 20L4 18.59l7.72-7.72 1.47 1.35L5.41 20z\"/>\n",
              "  </svg>\n",
              "      </button>\n",
              "      \n",
              "  <style>\n",
              "    .colab-df-container {\n",
              "      display:flex;\n",
              "      flex-wrap:wrap;\n",
              "      gap: 12px;\n",
              "    }\n",
              "\n",
              "    .colab-df-convert {\n",
              "      background-color: #E8F0FE;\n",
              "      border: none;\n",
              "      border-radius: 50%;\n",
              "      cursor: pointer;\n",
              "      display: none;\n",
              "      fill: #1967D2;\n",
              "      height: 32px;\n",
              "      padding: 0 0 0 0;\n",
              "      width: 32px;\n",
              "    }\n",
              "\n",
              "    .colab-df-convert:hover {\n",
              "      background-color: #E2EBFA;\n",
              "      box-shadow: 0px 1px 2px rgba(60, 64, 67, 0.3), 0px 1px 3px 1px rgba(60, 64, 67, 0.15);\n",
              "      fill: #174EA6;\n",
              "    }\n",
              "\n",
              "    [theme=dark] .colab-df-convert {\n",
              "      background-color: #3B4455;\n",
              "      fill: #D2E3FC;\n",
              "    }\n",
              "\n",
              "    [theme=dark] .colab-df-convert:hover {\n",
              "      background-color: #434B5C;\n",
              "      box-shadow: 0px 1px 3px 1px rgba(0, 0, 0, 0.15);\n",
              "      filter: drop-shadow(0px 1px 2px rgba(0, 0, 0, 0.3));\n",
              "      fill: #FFFFFF;\n",
              "    }\n",
              "  </style>\n",
              "\n",
              "      <script>\n",
              "        const buttonEl =\n",
              "          document.querySelector('#df-30636fe3-df8b-4d11-8320-ff5cb892c4a4 button.colab-df-convert');\n",
              "        buttonEl.style.display =\n",
              "          google.colab.kernel.accessAllowed ? 'block' : 'none';\n",
              "\n",
              "        async function convertToInteractive(key) {\n",
              "          const element = document.querySelector('#df-30636fe3-df8b-4d11-8320-ff5cb892c4a4');\n",
              "          const dataTable =\n",
              "            await google.colab.kernel.invokeFunction('convertToInteractive',\n",
              "                                                     [key], {});\n",
              "          if (!dataTable) return;\n",
              "\n",
              "          const docLinkHtml = 'Like what you see? Visit the ' +\n",
              "            '<a target=\"_blank\" href=https://colab.research.google.com/notebooks/data_table.ipynb>data table notebook</a>'\n",
              "            + ' to learn more about interactive tables.';\n",
              "          element.innerHTML = '';\n",
              "          dataTable['output_type'] = 'display_data';\n",
              "          await google.colab.output.renderOutput(dataTable, element);\n",
              "          const docLink = document.createElement('div');\n",
              "          docLink.innerHTML = docLinkHtml;\n",
              "          element.appendChild(docLink);\n",
              "        }\n",
              "      </script>\n",
              "    </div>\n",
              "  </div>\n",
              "  "
            ],
            "text/plain": [
              "            PTT.BK  PTTGC.BK    KCE.BK\n",
              "PTT.BK    0.038394  0.001259 -0.001394\n",
              "PTTGC.BK  0.001259  0.007346  0.003720\n",
              "KCE.BK   -0.001394  0.003720  0.011219"
            ]
          },
          "metadata": {},
          "execution_count": 108
        }
      ]
    },
    {
      "cell_type": "code",
      "source": [
        "def autocallable_torch_cuda(opt1, opt2, opt3, time_to_expiry, barrier, steps, trials):\n",
        "    S = S_0\n",
        "  \n",
        "    dt = time_to_expiry / torch.tensor([steps], device='cuda')\n",
        "    sigma = implied_vol\n",
        "    r = opt1.risk_free_rate\n",
        "    B = barrier\n",
        "    # See Advanced Monte Carlo methods for barrier and related exotic options by Emmanuel Gobet\n",
        "    # B_shift = B*torch.exp(0.5826*sigma*torch.sqrt(dt))\n",
        "    B_opt1 = opt1.barrier\n",
        "    mean = torch.Tensor([0, 0, 0])\n",
        "    cov_tensor = torch.from_numpy(pd.DataFrame.to_numpy(cov_thai)).to(dtype=torch.float32)\n",
        "    # distrib = MultivariateNormal(loc=mean, covariance_matrix=cov_tensor)\n",
        "    w = np.random.multivariate_normal(mean, cov_tensor / 252, [trials, steps])\n",
        "    w = torch.from_numpy(w).to('cuda')\n",
        "    S1 = opt1.s0 * torch.cumprod(torch.exp(w[:,:,0]), dim=1)\n",
        "    S2 = opt2.s0 * torch.cumprod(torch.exp(w[:,:,1]), dim=1)\n",
        "    S3 = opt3.s0 * torch.cumprod(torch.exp(w[:,:,2]), dim=1)\n",
        "    \n",
        "    # check if KO\n",
        "    KO_touch_ob1_opt1 = torch.any(S1[:,:20] > opt1.barrier, dim=1)\n",
        "    KO_touch_ob1_opt2 = torch.any(S2[:,:20] > opt2.barrier, dim=1)\n",
        "    KO_touch_ob1_opt3 = torch.any(S3[:,:20] > opt3.barrier, dim=1)\n",
        "    KO_touch_ob1 = torch.logical_and(torch.logical_and(KO_touch_ob1_opt1, KO_touch_ob1_opt2), KO_touch_ob1_opt3)\n",
        "    ac_payout_ko = 20 * KO_touch_ob1 + 100\n",
        "    \n",
        "    # chek if KI DIP  \n",
        "    KI_touch_opt1 = torch.min(S1, dim=1)[0] < B_opt1\n",
        "    KI_touch_opt1 = KI_touch_opt1.type(torch.cuda.FloatTensor)\n",
        "    dip1_payout = opt1.k - S1[:,-1]\n",
        "    dip1_payout[dip1_payout<0]=0\n",
        "    dip1_payout = dip1_payout * -1\n",
        "    \n",
        "    S1_T_return = S1[:,-1] / S1[:,0] - 1\n",
        "    S2_T_return = S1[:,-1] / S1[:,0] - 1\n",
        "    S3_T_return = S1[:,-1] / S1[:,0] - 1\n",
        "    dip_payout = torch.minimum(torch.minimum(S1_T_return, S2_T_return), S3_T_return)\n",
        "    ac_payout = KI_touch_opt1 * dip_payout * torch.logical_not(KO_touch_ob1) + ac_payout_ko\n",
        "    ac_payout_mean = torch.mean(ac_payout)\n",
        "    return torch.exp(-time_to_expiry*r)*ac_payout_mean, non_touch, S1, ac_payout"
      ],
      "metadata": {
        "id": "xAS9lMYNPl81"
      },
      "execution_count": null,
      "outputs": []
    },
    {
      "cell_type": "code",
      "source": [
        "# %%timeit -n 10\n",
        "ac_price, non_touch, stock1, ac_payout = autocallable_torch_cuda(opt1, opt2, opt3, time_to_expiry, barrier, steps, trials)"
      ],
      "metadata": {
        "id": "TTp5btyX3YuB"
      },
      "execution_count": null,
      "outputs": []
    },
    {
      "cell_type": "code",
      "source": [
        "plt.plot(stock1[3,:].cpu().detach().numpy())"
      ],
      "metadata": {
        "colab": {
          "base_uri": "https://localhost:8080/",
          "height": 282
        },
        "id": "YapAQgGQ4f7u",
        "outputId": "03352272-2e9b-4a3d-dcde-b82b079a37d7"
      },
      "execution_count": null,
      "outputs": [
        {
          "output_type": "execute_result",
          "data": {
            "text/plain": [
              "[<matplotlib.lines.Line2D at 0x7fe9920c4290>]"
            ]
          },
          "metadata": {},
          "execution_count": 25
        },
        {
          "output_type": "display_data",
          "data": {
            "image/png": "[encoded data removed]",
            "text/plain": [
              "<Figure size 432x288 with 1 Axes>"
            ]
          },
          "metadata": {
            "needs_background": "light"
          }
        }
      ]
    },
    {
      "cell_type": "code",
      "source": [
        "ac_price"
      ],
      "metadata": {
        "colab": {
          "base_uri": "https://localhost:8080/"
        },
        "id": "HPeKIELNHCCu",
        "outputId": "c3a76696-0d4d-4ee9-d1cc-c0383c262cd1"
      },
      "execution_count": null,
      "outputs": [
        {
          "output_type": "execute_result",
          "data": {
            "text/plain": [
              "tensor([99.1494], device='cuda:0', grad_fn=<MulBackward0>)"
            ]
          },
          "metadata": {},
          "execution_count": 26
        }
      ]
    },
    {
      "cell_type": "code",
      "source": [
        "a = torch.tensor([50, 30, 60])\n",
        "KO = a > 75\n",
        "torch.any(KO).item()"
      ],
      "metadata": {
        "colab": {
          "base_uri": "https://localhost:8080/"
        },
        "id": "W3nBQppB50Lh",
        "outputId": "14203b45-5f56-4bec-ad78-8b95d3a64074"
      },
      "execution_count": null,
      "outputs": [
        {
          "output_type": "execute_result",
          "data": {
            "text/plain": [
              "False"
            ]
          },
          "metadata": {},
          "execution_count": 124
        }
      ]
    },
    {
      "cell_type": "code",
      "source": [
        "f = torch.tensor([True, False, False])\n",
        "g = torch.logical_not(f)\n",
        "g"
      ],
      "metadata": {
        "colab": {
          "base_uri": "https://localhost:8080/"
        },
        "id": "QED06Y83BGsX",
        "outputId": "79bb066c-976a-4e6e-d75f-b531060f5329"
      },
      "execution_count": null,
      "outputs": [
        {
          "output_type": "execute_result",
          "data": {
            "text/plain": [
              "tensor([False,  True,  True])"
            ]
          },
          "metadata": {},
          "execution_count": 120
        }
      ]
    },
    {
      "cell_type": "markdown",
      "source": [
        "[`Monte Carlo Simulation Engine in Python`](https://medium.com/fintechexplained/monte-carlo-simulation-engine-in-python-a1fa5043c613)\n",
        "\n",
        "[`Fast Monte Carlo Pricing and Greeks for Barrier Options`](https://ipythonquant.wordpress.com/2018/11/18/fast-monte-carlo-pricing-and-greeks-for-barrier-options-using-gpu-computing-on-google-cloud-platform-in-python/)"
      ],
      "metadata": {
        "id": "obIO1cf4gVZc"
      }
    }
  ]
}